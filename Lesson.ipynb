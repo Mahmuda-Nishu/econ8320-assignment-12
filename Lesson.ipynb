{
  "cells": [
    {
      "cell_type": "markdown",
      "metadata": {
        "id": "KcXNRlb6qq9g"
      },
      "source": [
        "# Natural Language Processing\n",
        "\n",
        "\n",
        "## Defining Natural Language Processing\n",
        "\n",
        "As we continue further into our content this semester, you have probably noticed that each tool takes us to a new level of being able to conduct analysis with less code. As we progress, we move toward what are called \"higher level\" programming tools. Python itself is a high-level programming language, meaning that it is written in a way that is easier for humans to read than computers, with lots of translation happening behind the scenes.\n",
        "\n",
        "Tools like `pandas` remove a lot of the manual work from data processing. `numpy` and `scipy` handle much of the mathematical and statistical work that we want to do with our data. Natural Language Processing (NLP) is a tool similar to regex, but allowing us to take our text analytics to entirely new levels.\n",
        "\n",
        "Where regex allows us to look for text-based patterns in our words or string content, we want to go further. We want to look for **meaning**-based content. How do I find content that reflects anger? What words are most common in those contexts? What about when the content reflects joy? Sadness? Regex is not enough in these cases, and so we build to an even more powerful tool.\n",
        "\n",
        "NLP is a broad set of tools designed in order to enable users to work with text in ways that a human might work with text. When we work with text, we look for structures like sentences, and within those sentences we look for nouns to tell us who or what is the focus of the content. We look for verbs to understand what is happening. Adjectives and other descriptors help us to better understand the nuances of context. NLP models are trained to recognize these elements in text, and to be able to leverage that content to break text down and provide human users valuable information at a larger scale than would be possible if the document were simply read (slowly) by a human.\n",
        "\n",
        "| Regex | NLP |\n",
        "| --- | --- |\n",
        "| Create patterns to match in text | Identify the structure of text and use that to refine information|\n",
        "| Used to verify or find data | Used to analyze data |\n",
        "| Applies user-defined rules | Relies heavily on ML-based (or other) models |\n",
        "\n",
        "\n",
        "## What NLP can do\n",
        "\n",
        "So what can NLP do for us?\n",
        "\n",
        "### Identify parts of speech\n",
        "\n",
        "When we pass a document (really a string, but typically we provide a fairly large string to an NLP algorithm) to an NLP model, it is able to identify parts of speech (nouns, verbs, etc.). This enables us to quickly break down our text to find various kinds of keywords, and is the first step in many more complex pipelines.\n",
        "\n",
        "### Iterate over sentences\n",
        "\n",
        "NLP can identify sentences within a document. This makes for a powerful iterative tool, as we will be able to define a processing pipeline for each sentence, and then apply that pipeline to as many sentences as exist within our document, without having to write complex code to try and recognize where each sentence starts and ends (this is MUCH harder than it sounds).\n",
        "\n",
        "### Find words used to describe various nouns (or anything else!)\n",
        "\n",
        "Beyond simply identifying parts of speech, NLP models can be used to build a structural dependency tree of each sentence. This structure allows us to associate adjectives with their respective nouns, or adverbs to the verb that they modify. We can explore how various entities are described in our document based on word associations. We can even visualize the structure of the sentence using simple mapping functions.\n",
        "\n",
        "### Filter text for analysis\n",
        "\n",
        "We can use NLP to filter our text. We can look for sentences about a specific entity, or explore other ways of filtering our text in order to create a better understanding of overall patterns in the document.\n",
        "\n",
        "### Conduct sentiment analysis\n",
        "\n",
        "One of the most powerful capabilities resulting from NLP models is the ability to analyze sentiment within the text. Words have the ability to convey literal meanings, as well as the more subtle capacity to convey emotion. By looking for word combinations in our text, NLP models can provide sentiment measurements at the word, sentence, or document level. This provides the ability to sort through texts for specific sentiments to learn about the way in which emotion affects the outcomes we are examining in text. One example might be looking through descriptions for negative emotions, and being able to respond to unhappy customers by flagging negative descriptions.\n",
        "\n",
        "\n",
        "## Implementing NLP models\n",
        "\n",
        "To get started with NLP models, we need to install the right libraries (and a corpus!). The library that we will use is `spacy`, although there are multiple other options available to us. One other common NLP library is `nltk`, the Natural Language Toolkit (NLTK). In my experience NLTK is more commonly employed when someone wants to create their own model from scratch, rather than implement pre-built and optimized NLP models.\n",
        "\n",
        "In addition to a library to conduct NLP, we also rely on a **corpus**. A corpus is essentially a model of a specific language that is built to enable the actual analysis. `spacy` as a library is a general structure that can be implemented on ANY language. The corpus allows us to select a specific language, and a model of that language built on a specific set of information.\n",
        "\n",
        "When we install `spacy`, we will also download the `en_core_web_sm` corpus. This corpus is a small-sized model of the english language, and was trained on web-based data. That means that it will perform best on data drawn from websites, and is not as strong a model for other contexts (like analyzing Pride and Prejudice). That doesn't mean that we can't use in other contexts, but it does suggest that results will not be as refined or accurate."
      ]
    },
    {
      "cell_type": "markdown",
      "metadata": {
        "id": "1y1LNNstqq9i"
      },
      "source": [
        "We need to get ourselves some text to analyze before we jump into the NLP world. In true form, here is another favorite old book. We will take a look at the first three chapters of Jane Eyre from [Project Gutenberg](https://www.gutenberg.org/browse/scores/top)."
      ]
    },
    {
      "cell_type": "code",
      "execution_count": 4,
      "metadata": {
        "id": "wjSB2yBPqq9i"
      },
      "outputs": [],
      "source": [
        "import requests\n",
        "\n",
        "jane = requests.get(\n",
        "\"https://github.com/dustywhite7/Econ8320/raw/master/AssignmentData/janeEyreCh1to3.txt\"\n",
        ").text"
      ]
    },
    {
      "cell_type": "markdown",
      "metadata": {
        "id": "ZnT2tv_bqq9i"
      },
      "source": [
        "You can take a look at the text to get an idea of what we will be working with. Once you're ready, we will go ahead and import the `spacy` library. The very first thing we do once we import `spacy` is to load the coprus, so that we are able to use its language models to parse our document. Let's run the code, and then discuss what is happening."
      ]
    },
    {
      "cell_type": "code",
      "execution_count": 5,
      "metadata": {
        "id": "SPfj4dtnqq9i"
      },
      "outputs": [],
      "source": [
        "import spacy\n",
        "\n",
        "nlp = spacy.load(\"en_core_web_sm\")\n",
        "doc = nlp(jane)"
      ]
    },
    {
      "cell_type": "markdown",
      "metadata": {
        "id": "kvr1JHZ1qq9j"
      },
      "source": [
        "### The structure of a parsed document\n",
        "\n",
        "When we create an `nlp` object based on our corpus, we are creating our pipeline for working with text. Our corpus contains all of the information necessary to prepare our data for analysis. When we create our `doc` object, we are passing our document through the processing pipeline. Our new parsed document (`doc` in this case), has some important **attributes**:\n",
        "\n",
        "- `sents` - a generator function to iterate over each sentence in the document\n",
        "- `token` - each individual element of the document\n",
        "    - Elements exist at the word/punctuation level\n",
        "\n",
        "After being processed, our document has been broken down into tokens, and then (to some extent) reconstructed into sentences. Additionally, each token is mapped out in relation to the other tokens within a sentence, and is described using various attributes to inform how that token relates to the text around it."
      ]
    },
    {
      "cell_type": "code",
      "execution_count": 6,
      "metadata": {
        "colab": {
          "base_uri": "https://localhost:8080/"
        },
        "id": "o2P1o43Fqq9j",
        "outputId": "ad77e1b9-f56b-47c1-9c65-3e9c48d03ba8"
      },
      "outputs": [
        {
          "output_type": "execute_result",
          "data": {
            "text/plain": [
              "['CHAPTER I   There was no possibility of taking a walk that day.',\n",
              " 'We had been wandering, indeed, in the leafless shrubbery an hour in the morning; but since dinner (Mrs. Reed, when there was no company, dined early) the cold winter wind had brought with it clouds so sombre, and a rain so penetrating, that further outdoor exercise was now out of the question.  ',\n",
              " 'I was glad of it: I never liked long walks, especially on chilly afternoons: dreadful to me was the coming home in the raw twilight, with nipped fingers and toes, and a heart saddened by the chidings of Bessie, the nurse, and humbled by the consciousness of my physical inferiority to Eliza, John, and Georgiana Reed.  ',\n",
              " 'The said Eliza, John, and Georgiana were now clustered round their mama in the drawing-room: she lay reclined on a sofa by the fireside, and with her darlings about her (for the time neither quarrelling nor crying) looked perfectly happy.',\n",
              " 'Me, she had dispensed from joining the group; saying, “She regretted to be under the necessity of keeping me at a distance; but that until she heard from Bessie, and could discover by her own observation, that I was endeavouring in good earnest to acquire a more sociable and childlike disposition, a more attractive and sprightly manner—something lighter, franker, more natural, as it were—she really must exclude me from privileges intended only for contented, happy, little children.”  ',\n",
              " '“What does Bessie say I have done?”',\n",
              " 'I asked.  ',\n",
              " '“Jane, I don’t like cavillers or questioners; besides, there is something truly forbidding in a child taking up her elders in that manner.',\n",
              " 'Be seated somewhere; and until you can speak pleasantly, remain silent.”  ',\n",
              " 'A breakfast-room adjoined the drawing-room, I slipped in there.']"
            ]
          },
          "metadata": {},
          "execution_count": 6
        }
      ],
      "source": [
        "test = [i.text.replace('\\n', ' ') for i in doc.sents][:10]\n",
        "# print first 10 sentences, replacing newlines with spaces\n",
        "\n",
        "test\n"
      ]
    },
    {
      "cell_type": "markdown",
      "metadata": {
        "id": "pBcO3-HRqq9j"
      },
      "source": [
        "### Understanding tokens\n",
        "\n",
        "Recall that each word is represented as a token in the processed document. These tokens are immensely powerful. They are the word, but also more than that. Words in the English language are often modified based on context. Verbs are conjugated, nouns may be plural, among many possibilities. Each word is **tokenized** through our corpus in order to identify the underlying word.\n",
        "\n",
        "This is important, because we might want to look for each instance of a single word in our corpus. Let's say that we want to find every instance of \"eat\". If we look for \"eat\", we want to make sure that \"eats\" and \"ate\", as well as \"eating\" and other forms are all considered. This is where tokenization becomes critical. Each token contains the text value from the original document, but also the **lemmatized** word. The lemma is the base form of the word, allowing us to search for lemmas rather than the text word. This streamlines our ability to analyze text by focusing on lemmas rather than unprocessed text.\n",
        "\n",
        "Other valuable attributes are also associated with our tokens:\n",
        "- `lemma_` - the \"root word\" from which a token/word is derived\n",
        "- `pos_` - the part of speech of a token/word\n",
        "- `dep_` - the relationship of dependent tokens to the parent token (adjectives to nouns, etc.)\n",
        "- `like_email`/`like_num`/`like_url` - check if a token is like an email, number, or url (unlikely in Jane Eyre)\n",
        "\n",
        "Let's look at the first 100 non-space, non-punctuation lemmas in Jane Eyre:"
      ]
    },
    {
      "cell_type": "code",
      "execution_count": 7,
      "metadata": {
        "colab": {
          "base_uri": "https://localhost:8080/"
        },
        "id": "uhPY5mhNqq9j",
        "outputId": "a4ec944d-ee96-410c-aa98-9aff01a94caa"
      },
      "outputs": [
        {
          "output_type": "stream",
          "name": "stdout",
          "text": [
            "[('chapter', 'CHAPTER'), ('I', 'I'), ('there', 'There'), ('be', 'was'), ('no', 'no'), ('possibility', 'possibility'), ('of', 'of'), ('take', 'taking'), ('a', 'a'), ('walk', 'walk'), ('that', 'that'), ('day', 'day'), ('we', 'We'), ('have', 'had'), ('be', 'been'), ('wander', 'wandering'), ('indeed', 'indeed'), ('in', 'in'), ('the', 'the'), ('leafless', 'leafless'), ('shrubbery', 'shrubbery'), ('an', 'an'), ('hour', 'hour'), ('in', 'in'), ('the', 'the'), ('morning', 'morning'), ('but', 'but'), ('since', 'since'), ('dinner', 'dinner'), ('Mrs.', 'Mrs.'), ('Reed', 'Reed'), ('when', 'when'), ('there', 'there'), ('be', 'was'), ('no', 'no'), ('company', 'company'), ('dine', 'dined'), ('early', 'early'), ('the', 'the'), ('cold', 'cold'), ('winter', 'winter'), ('wind', 'wind'), ('have', 'had'), ('bring', 'brought'), ('with', 'with'), ('it', 'it'), ('cloud', 'clouds'), ('so', 'so'), ('sombre', 'sombre'), ('and', 'and'), ('a', 'a'), ('rain', 'rain'), ('so', 'so'), ('penetrate', 'penetrating'), ('that', 'that'), ('further', 'further'), ('outdoor', 'outdoor'), ('exercise', 'exercise'), ('be', 'was'), ('now', 'now'), ('out', 'out'), ('of', 'of'), ('the', 'the'), ('question', 'question'), ('I', 'I'), ('be', 'was'), ('glad', 'glad'), ('of', 'of'), ('it', 'it'), ('I', 'I'), ('never', 'never'), ('like', 'liked'), ('long', 'long'), ('walk', 'walks'), ('especially', 'especially'), ('on', 'on'), ('chilly', 'chilly'), ('afternoon', 'afternoons'), ('dreadful', 'dreadful'), ('to', 'to'), ('I', 'me'), ('be', 'was'), ('the', 'the'), ('come', 'coming'), ('home', 'home'), ('in', 'in'), ('the', 'the'), ('raw', 'raw'), ('twilight', 'twilight'), ('with', 'with'), ('nip', 'nipped'), ('finger', 'fingers'), ('and', 'and'), ('toe', 'toes'), ('and', 'and'), ('a', 'a'), ('heart', 'heart'), ('sadden', 'saddened'), ('by', 'by'), ('the', 'the')]\n"
          ]
        }
      ],
      "source": [
        "lemmas100 = [(i.lemma_, i.text) for i in doc if (not i.is_punct) and (not i.is_space)][:100]\n",
        "\n",
        "print(lemmas100) # The lemma comes first, followed by the actual word in the text."
      ]
    },
    {
      "cell_type": "markdown",
      "metadata": {
        "id": "lBIL5-O0qq9j"
      },
      "source": [
        "We can also filter words by part of speech using the `pos_` attribute of our tokens. Let's look for the first 100 nouns in the text."
      ]
    },
    {
      "cell_type": "code",
      "execution_count": 8,
      "metadata": {
        "colab": {
          "base_uri": "https://localhost:8080/"
        },
        "id": "qghcrVeJqq9j",
        "outputId": "cca4b131-ad2f-4e37-d5c0-513c9cc3b4e1"
      },
      "outputs": [
        {
          "output_type": "stream",
          "name": "stdout",
          "text": [
            "['CHAPTER', 'possibility', 'walk', 'day', 'leafless', 'shrubbery', 'hour', 'morning', 'dinner', 'company', 'winter', 'wind', 'clouds', 'sombre', 'rain', 'exercise', 'question', 'walks', 'afternoons', 'home', 'twilight', 'fingers', 'toes', 'heart', 'chidings', 'nurse', 'consciousness', 'inferiority', 'mama', 'drawing', 'room', 'sofa', 'fireside', 'darlings', 'time', 'crying', 'group', 'necessity', 'distance', 'observation', 'earnest', 'disposition', 'manner', 'franker', 'privileges', 'children', 'Bessie', 'cavillers', 'questioners', 'child', 'elders', 'manner', 'breakfast', 'room', 'drawing', 'room', 'bookcase', 'volume', 'care', 'pictures', 'window', 'seat', 'feet', 'curtain', 'retirement', 'drapery', 'view', 'hand', 'panes', 'glass', 'day', 'intervals', 'leaves', 'book', 'aspect', 'winter', 'afternoon', 'blank', 'mist', 'scene', 'lawn', 'storm', 'beat', 'shrub', 'rain', 'blast', 'book', 'History', 'letterpress', 'pages', 'child', 'blank', 'haunts', 'sea', 'fowl', 'rocks', 'promontories', 'coast', 'isles', 'extremity']\n"
          ]
        }
      ],
      "source": [
        "nouns = [i.text for i in doc if i.pos_=='NOUN'][:100]\n",
        "\n",
        "print(nouns) # The lemma comes first, followed by the actual word in the text."
      ]
    },
    {
      "cell_type": "markdown",
      "metadata": {
        "id": "-8EsyLRzqq9j"
      },
      "source": [
        "Pretty cool! If you look through that list, you'll see that there are a lot of different kinds of nouns. Two that stood out to me are \"drawing\" and \"room\"... oh wait... that's ONE NOUN that is two words! And leads us right into **noun chunks**. ;)\n",
        "\n",
        "Sometimes, you want to be able to see a \"complete\" noun, and noun chunks are the tool to use!"
      ]
    },
    {
      "cell_type": "code",
      "execution_count": 9,
      "metadata": {
        "colab": {
          "base_uri": "https://localhost:8080/"
        },
        "id": "E2eOC0Bqqq9j",
        "outputId": "dd597d07-1be4-4322-8111-d96a5485efd5"
      },
      "outputs": [
        {
          "output_type": "stream",
          "name": "stdout",
          "text": [
            "['I', 'no possibility', 'a walk', 'We', 'the leafless shrubbery', 'the morning', 'dinner', 'Mrs. Reed', 'no company', 'the cold winter wind', 'it', 'clouds', 'a rain', 'further outdoor exercise', 'the question', 'I', 'it', 'I', 'long walks', 'chilly afternoons', 'me', 'the coming home', 'the raw twilight', 'nipped fingers', 'toes', 'a heart', 'the chidings', 'Bessie', 'the nurse', 'the consciousness', 'my physical inferiority', 'Eliza', 'John', 'Georgiana Reed', 'The', 'Eliza', 'John', 'Georgiana', 'their mama', 'the drawing-room', 'she', 'a sofa', 'the fireside', 'her darlings', 'her', 'the time', 'crying', 'she', 'the group', 'She', 'the necessity', 'me', 'a distance', 'she', 'Bessie', 'her own observation', 'I', 'good earnest', 'a more sociable and childlike disposition', 'something', 'it', 'she', 'me', 'privileges', 'contented, happy, little children', 'Bessie', 'I', 'I', 'I', 'cavillers', 'questioners', 'something', 'a child', 'her elders', 'that manner', 'you', 'A breakfast-room', 'the drawing-room', 'I', 'It', 'a bookcase', 'I', 'myself', 'a volume', 'care', 'it', 'pictures', 'I', 'the window-seat', 'my feet', 'I', 'a Turk', 'the red moreen curtain', 'I', 'double retirement', 'Folds', 'scarlet drapery', 'my view', 'the right hand', 'the clear panes']\n"
          ]
        }
      ],
      "source": [
        "nouns = [i.text.replace('\\n', ' ') for i in doc.noun_chunks][:100] # getting rid of new lines in our noun chunks\n",
        "\n",
        "print(nouns)"
      ]
    },
    {
      "cell_type": "markdown",
      "metadata": {
        "id": "ycHOOqoDqq9j"
      },
      "source": [
        "That's better. Noun chunks include all of the modifiers for a given noun, and make it easier to build a more complete understanding of the references being made. Why do we care? Because \"the red moreen curtain\" is the object, and we want to be sure to understand the implication of the full object, rather than only the word within the noun chunk that is actually a noun.\n",
        "\n",
        "If we want to understand more about the nature of the relationships between words within a sentence, we can plot a dependency tree.\n",
        "\n",
        "**NOTE: When you run the following code, be sure to click the STOP button when you're done, or no other code will run! The renderer for the dependency tree will keep running until you terminate it!**"
      ]
    },
    {
      "cell_type": "code",
      "execution_count": 10,
      "metadata": {
        "colab": {
          "base_uri": "https://localhost:8080/",
          "height": 760
        },
        "id": "A2SFK-txqq9k",
        "outputId": "3342e6e2-e00d-41a7-809f-4a487677c763"
      },
      "outputs": [
        {
          "output_type": "stream",
          "name": "stderr",
          "text": [
            "/usr/local/lib/python3.10/dist-packages/spacy/displacy/__init__.py:106: UserWarning: [W011] It looks like you're calling displacy.serve from within a Jupyter notebook or a similar environment. This likely means you're already running a local web server, so there's no need to make displaCy start another one. Instead, you should be able to replace displacy.serve with displacy.render to show the visualization.\n",
            "  warnings.warn(Warnings.W011)\n"
          ]
        },
        {
          "output_type": "display_data",
          "data": {
            "text/plain": [
              "<IPython.core.display.HTML object>"
            ],
            "text/html": [
              "<span class=\"tex2jax_ignore\"><!DOCTYPE html>\n",
              "<html lang=\"en\">\n",
              "    <head>\n",
              "        <title>displaCy</title>\n",
              "    </head>\n",
              "\n",
              "    <body style=\"font-size: 16px; font-family: -apple-system, BlinkMacSystemFont, 'Segoe UI', Helvetica, Arial, sans-serif, 'Apple Color Emoji', 'Segoe UI Emoji', 'Segoe UI Symbol'; padding: 4rem 2rem; direction: ltr\">\n",
              "<figure style=\"margin-bottom: 6rem\">\n",
              "<svg xmlns=\"http://www.w3.org/2000/svg\" xmlns:xlink=\"http://www.w3.org/1999/xlink\" xml:lang=\"en\" id=\"7d7e328305de45a990fa42adb84ce361-0\" class=\"displacy\" width=\"2325\" height=\"487.0\" direction=\"ltr\" style=\"max-width: none; height: 487.0px; color: #000000; background: #ffffff; font-family: Arial; direction: ltr\">\n",
              "<text class=\"displacy-token\" fill=\"currentColor\" text-anchor=\"middle\" y=\"397.0\">\n",
              "    <tspan class=\"displacy-word\" fill=\"currentColor\" x=\"50\">In</tspan>\n",
              "    <tspan class=\"displacy-tag\" dy=\"2em\" fill=\"currentColor\" x=\"50\">ADP</tspan>\n",
              "</text>\n",
              "\n",
              "<text class=\"displacy-token\" fill=\"currentColor\" text-anchor=\"middle\" y=\"397.0\">\n",
              "    <tspan class=\"displacy-word\" fill=\"currentColor\" x=\"225\">guarantee</tspan>\n",
              "    <tspan class=\"displacy-tag\" dy=\"2em\" fill=\"currentColor\" x=\"225\">NOUN</tspan>\n",
              "</text>\n",
              "\n",
              "<text class=\"displacy-token\" fill=\"currentColor\" text-anchor=\"middle\" y=\"397.0\">\n",
              "    <tspan class=\"displacy-word\" fill=\"currentColor\" x=\"400\">whereof,</tspan>\n",
              "    <tspan class=\"displacy-tag\" dy=\"2em\" fill=\"currentColor\" x=\"400\">ADV</tspan>\n",
              "</text>\n",
              "\n",
              "<text class=\"displacy-token\" fill=\"currentColor\" text-anchor=\"middle\" y=\"397.0\">\n",
              "    <tspan class=\"displacy-word\" fill=\"currentColor\" x=\"575\">I</tspan>\n",
              "    <tspan class=\"displacy-tag\" dy=\"2em\" fill=\"currentColor\" x=\"575\">PRON</tspan>\n",
              "</text>\n",
              "\n",
              "<text class=\"displacy-token\" fill=\"currentColor\" text-anchor=\"middle\" y=\"397.0\">\n",
              "    <tspan class=\"displacy-word\" fill=\"currentColor\" x=\"750\">attached</tspan>\n",
              "    <tspan class=\"displacy-tag\" dy=\"2em\" fill=\"currentColor\" x=\"750\">VERB</tspan>\n",
              "</text>\n",
              "\n",
              "<text class=\"displacy-token\" fill=\"currentColor\" text-anchor=\"middle\" y=\"397.0\">\n",
              "    <tspan class=\"displacy-word\" fill=\"currentColor\" x=\"925\">myself</tspan>\n",
              "    <tspan class=\"displacy-tag\" dy=\"2em\" fill=\"currentColor\" x=\"925\">PRON</tspan>\n",
              "</text>\n",
              "\n",
              "<text class=\"displacy-token\" fill=\"currentColor\" text-anchor=\"middle\" y=\"397.0\">\n",
              "    <tspan class=\"displacy-word\" fill=\"currentColor\" x=\"1100\">to</tspan>\n",
              "    <tspan class=\"displacy-tag\" dy=\"2em\" fill=\"currentColor\" x=\"1100\">ADP</tspan>\n",
              "</text>\n",
              "\n",
              "<text class=\"displacy-token\" fill=\"currentColor\" text-anchor=\"middle\" y=\"397.0\">\n",
              "    <tspan class=\"displacy-word\" fill=\"currentColor\" x=\"1275\">my</tspan>\n",
              "    <tspan class=\"displacy-tag\" dy=\"2em\" fill=\"currentColor\" x=\"1275\">PRON</tspan>\n",
              "</text>\n",
              "\n",
              "<text class=\"displacy-token\" fill=\"currentColor\" text-anchor=\"middle\" y=\"397.0\">\n",
              "    <tspan class=\"displacy-word\" fill=\"currentColor\" x=\"1450\">seat</tspan>\n",
              "    <tspan class=\"displacy-tag\" dy=\"2em\" fill=\"currentColor\" x=\"1450\">NOUN</tspan>\n",
              "</text>\n",
              "\n",
              "<text class=\"displacy-token\" fill=\"currentColor\" text-anchor=\"middle\" y=\"397.0\">\n",
              "    <tspan class=\"displacy-word\" fill=\"currentColor\" x=\"1625\">by</tspan>\n",
              "    <tspan class=\"displacy-tag\" dy=\"2em\" fill=\"currentColor\" x=\"1625\">ADP</tspan>\n",
              "</text>\n",
              "\n",
              "<text class=\"displacy-token\" fill=\"currentColor\" text-anchor=\"middle\" y=\"397.0\">\n",
              "    <tspan class=\"displacy-word\" fill=\"currentColor\" x=\"1800\">my</tspan>\n",
              "    <tspan class=\"displacy-tag\" dy=\"2em\" fill=\"currentColor\" x=\"1800\">PRON</tspan>\n",
              "</text>\n",
              "\n",
              "<text class=\"displacy-token\" fill=\"currentColor\" text-anchor=\"middle\" y=\"397.0\">\n",
              "    <tspan class=\"displacy-word\" fill=\"currentColor\" x=\"1975\">hands.</tspan>\n",
              "    <tspan class=\"displacy-tag\" dy=\"2em\" fill=\"currentColor\" x=\"1975\">PUNCT</tspan>\n",
              "</text>\n",
              "\n",
              "<text class=\"displacy-token\" fill=\"currentColor\" text-anchor=\"middle\" y=\"397.0\">\n",
              "    <tspan class=\"displacy-word\" fill=\"currentColor\" x=\"2150\">\n",
              "\n",
              "</tspan>\n",
              "    <tspan class=\"displacy-tag\" dy=\"2em\" fill=\"currentColor\" x=\"2150\">SPACE</tspan>\n",
              "</text>\n",
              "\n",
              "<g class=\"displacy-arrow\">\n",
              "    <path class=\"displacy-arc\" id=\"arrow-7d7e328305de45a990fa42adb84ce361-0-0\" stroke-width=\"2px\" d=\"M70,352.0 C70,177.0 740.0,177.0 740.0,352.0\" fill=\"none\" stroke=\"currentColor\"/>\n",
              "    <text dy=\"1.25em\" style=\"font-size: 0.8em; letter-spacing: 1px\">\n",
              "        <textPath xlink:href=\"#arrow-7d7e328305de45a990fa42adb84ce361-0-0\" class=\"displacy-label\" startOffset=\"50%\" side=\"left\" fill=\"currentColor\" text-anchor=\"middle\">prep</textPath>\n",
              "    </text>\n",
              "    <path class=\"displacy-arrowhead\" d=\"M70,354.0 L62,342.0 78,342.0\" fill=\"currentColor\"/>\n",
              "</g>\n",
              "\n",
              "<g class=\"displacy-arrow\">\n",
              "    <path class=\"displacy-arc\" id=\"arrow-7d7e328305de45a990fa42adb84ce361-0-1\" stroke-width=\"2px\" d=\"M70,352.0 C70,264.5 210.0,264.5 210.0,352.0\" fill=\"none\" stroke=\"currentColor\"/>\n",
              "    <text dy=\"1.25em\" style=\"font-size: 0.8em; letter-spacing: 1px\">\n",
              "        <textPath xlink:href=\"#arrow-7d7e328305de45a990fa42adb84ce361-0-1\" class=\"displacy-label\" startOffset=\"50%\" side=\"left\" fill=\"currentColor\" text-anchor=\"middle\">pobj</textPath>\n",
              "    </text>\n",
              "    <path class=\"displacy-arrowhead\" d=\"M210.0,354.0 L218.0,342.0 202.0,342.0\" fill=\"currentColor\"/>\n",
              "</g>\n",
              "\n",
              "<g class=\"displacy-arrow\">\n",
              "    <path class=\"displacy-arc\" id=\"arrow-7d7e328305de45a990fa42adb84ce361-0-2\" stroke-width=\"2px\" d=\"M245,352.0 C245,264.5 385.0,264.5 385.0,352.0\" fill=\"none\" stroke=\"currentColor\"/>\n",
              "    <text dy=\"1.25em\" style=\"font-size: 0.8em; letter-spacing: 1px\">\n",
              "        <textPath xlink:href=\"#arrow-7d7e328305de45a990fa42adb84ce361-0-2\" class=\"displacy-label\" startOffset=\"50%\" side=\"left\" fill=\"currentColor\" text-anchor=\"middle\">acl</textPath>\n",
              "    </text>\n",
              "    <path class=\"displacy-arrowhead\" d=\"M385.0,354.0 L393.0,342.0 377.0,342.0\" fill=\"currentColor\"/>\n",
              "</g>\n",
              "\n",
              "<g class=\"displacy-arrow\">\n",
              "    <path class=\"displacy-arc\" id=\"arrow-7d7e328305de45a990fa42adb84ce361-0-3\" stroke-width=\"2px\" d=\"M595,352.0 C595,264.5 735.0,264.5 735.0,352.0\" fill=\"none\" stroke=\"currentColor\"/>\n",
              "    <text dy=\"1.25em\" style=\"font-size: 0.8em; letter-spacing: 1px\">\n",
              "        <textPath xlink:href=\"#arrow-7d7e328305de45a990fa42adb84ce361-0-3\" class=\"displacy-label\" startOffset=\"50%\" side=\"left\" fill=\"currentColor\" text-anchor=\"middle\">nsubj</textPath>\n",
              "    </text>\n",
              "    <path class=\"displacy-arrowhead\" d=\"M595,354.0 L587,342.0 603,342.0\" fill=\"currentColor\"/>\n",
              "</g>\n",
              "\n",
              "<g class=\"displacy-arrow\">\n",
              "    <path class=\"displacy-arc\" id=\"arrow-7d7e328305de45a990fa42adb84ce361-0-4\" stroke-width=\"2px\" d=\"M770,352.0 C770,264.5 910.0,264.5 910.0,352.0\" fill=\"none\" stroke=\"currentColor\"/>\n",
              "    <text dy=\"1.25em\" style=\"font-size: 0.8em; letter-spacing: 1px\">\n",
              "        <textPath xlink:href=\"#arrow-7d7e328305de45a990fa42adb84ce361-0-4\" class=\"displacy-label\" startOffset=\"50%\" side=\"left\" fill=\"currentColor\" text-anchor=\"middle\">dobj</textPath>\n",
              "    </text>\n",
              "    <path class=\"displacy-arrowhead\" d=\"M910.0,354.0 L918.0,342.0 902.0,342.0\" fill=\"currentColor\"/>\n",
              "</g>\n",
              "\n",
              "<g class=\"displacy-arrow\">\n",
              "    <path class=\"displacy-arc\" id=\"arrow-7d7e328305de45a990fa42adb84ce361-0-5\" stroke-width=\"2px\" d=\"M770,352.0 C770,177.0 1090.0,177.0 1090.0,352.0\" fill=\"none\" stroke=\"currentColor\"/>\n",
              "    <text dy=\"1.25em\" style=\"font-size: 0.8em; letter-spacing: 1px\">\n",
              "        <textPath xlink:href=\"#arrow-7d7e328305de45a990fa42adb84ce361-0-5\" class=\"displacy-label\" startOffset=\"50%\" side=\"left\" fill=\"currentColor\" text-anchor=\"middle\">prep</textPath>\n",
              "    </text>\n",
              "    <path class=\"displacy-arrowhead\" d=\"M1090.0,354.0 L1098.0,342.0 1082.0,342.0\" fill=\"currentColor\"/>\n",
              "</g>\n",
              "\n",
              "<g class=\"displacy-arrow\">\n",
              "    <path class=\"displacy-arc\" id=\"arrow-7d7e328305de45a990fa42adb84ce361-0-6\" stroke-width=\"2px\" d=\"M1295,352.0 C1295,264.5 1435.0,264.5 1435.0,352.0\" fill=\"none\" stroke=\"currentColor\"/>\n",
              "    <text dy=\"1.25em\" style=\"font-size: 0.8em; letter-spacing: 1px\">\n",
              "        <textPath xlink:href=\"#arrow-7d7e328305de45a990fa42adb84ce361-0-6\" class=\"displacy-label\" startOffset=\"50%\" side=\"left\" fill=\"currentColor\" text-anchor=\"middle\">poss</textPath>\n",
              "    </text>\n",
              "    <path class=\"displacy-arrowhead\" d=\"M1295,354.0 L1287,342.0 1303,342.0\" fill=\"currentColor\"/>\n",
              "</g>\n",
              "\n",
              "<g class=\"displacy-arrow\">\n",
              "    <path class=\"displacy-arc\" id=\"arrow-7d7e328305de45a990fa42adb84ce361-0-7\" stroke-width=\"2px\" d=\"M1120,352.0 C1120,177.0 1440.0,177.0 1440.0,352.0\" fill=\"none\" stroke=\"currentColor\"/>\n",
              "    <text dy=\"1.25em\" style=\"font-size: 0.8em; letter-spacing: 1px\">\n",
              "        <textPath xlink:href=\"#arrow-7d7e328305de45a990fa42adb84ce361-0-7\" class=\"displacy-label\" startOffset=\"50%\" side=\"left\" fill=\"currentColor\" text-anchor=\"middle\">pobj</textPath>\n",
              "    </text>\n",
              "    <path class=\"displacy-arrowhead\" d=\"M1440.0,354.0 L1448.0,342.0 1432.0,342.0\" fill=\"currentColor\"/>\n",
              "</g>\n",
              "\n",
              "<g class=\"displacy-arrow\">\n",
              "    <path class=\"displacy-arc\" id=\"arrow-7d7e328305de45a990fa42adb84ce361-0-8\" stroke-width=\"2px\" d=\"M770,352.0 C770,89.5 1620.0,89.5 1620.0,352.0\" fill=\"none\" stroke=\"currentColor\"/>\n",
              "    <text dy=\"1.25em\" style=\"font-size: 0.8em; letter-spacing: 1px\">\n",
              "        <textPath xlink:href=\"#arrow-7d7e328305de45a990fa42adb84ce361-0-8\" class=\"displacy-label\" startOffset=\"50%\" side=\"left\" fill=\"currentColor\" text-anchor=\"middle\">prep</textPath>\n",
              "    </text>\n",
              "    <path class=\"displacy-arrowhead\" d=\"M1620.0,354.0 L1628.0,342.0 1612.0,342.0\" fill=\"currentColor\"/>\n",
              "</g>\n",
              "\n",
              "<g class=\"displacy-arrow\">\n",
              "    <path class=\"displacy-arc\" id=\"arrow-7d7e328305de45a990fa42adb84ce361-0-9\" stroke-width=\"2px\" d=\"M1820,352.0 C1820,264.5 1960.0,264.5 1960.0,352.0\" fill=\"none\" stroke=\"currentColor\"/>\n",
              "    <text dy=\"1.25em\" style=\"font-size: 0.8em; letter-spacing: 1px\">\n",
              "        <textPath xlink:href=\"#arrow-7d7e328305de45a990fa42adb84ce361-0-9\" class=\"displacy-label\" startOffset=\"50%\" side=\"left\" fill=\"currentColor\" text-anchor=\"middle\">poss</textPath>\n",
              "    </text>\n",
              "    <path class=\"displacy-arrowhead\" d=\"M1820,354.0 L1812,342.0 1828,342.0\" fill=\"currentColor\"/>\n",
              "</g>\n",
              "\n",
              "<g class=\"displacy-arrow\">\n",
              "    <path class=\"displacy-arc\" id=\"arrow-7d7e328305de45a990fa42adb84ce361-0-10\" stroke-width=\"2px\" d=\"M770,352.0 C770,2.0 1975.0,2.0 1975.0,352.0\" fill=\"none\" stroke=\"currentColor\"/>\n",
              "    <text dy=\"1.25em\" style=\"font-size: 0.8em; letter-spacing: 1px\">\n",
              "        <textPath xlink:href=\"#arrow-7d7e328305de45a990fa42adb84ce361-0-10\" class=\"displacy-label\" startOffset=\"50%\" side=\"left\" fill=\"currentColor\" text-anchor=\"middle\">punct</textPath>\n",
              "    </text>\n",
              "    <path class=\"displacy-arrowhead\" d=\"M1975.0,354.0 L1983.0,342.0 1967.0,342.0\" fill=\"currentColor\"/>\n",
              "</g>\n",
              "\n",
              "<g class=\"displacy-arrow\">\n",
              "    <path class=\"displacy-arc\" id=\"arrow-7d7e328305de45a990fa42adb84ce361-0-11\" stroke-width=\"2px\" d=\"M1995,352.0 C1995,264.5 2135.0,264.5 2135.0,352.0\" fill=\"none\" stroke=\"currentColor\"/>\n",
              "    <text dy=\"1.25em\" style=\"font-size: 0.8em; letter-spacing: 1px\">\n",
              "        <textPath xlink:href=\"#arrow-7d7e328305de45a990fa42adb84ce361-0-11\" class=\"displacy-label\" startOffset=\"50%\" side=\"left\" fill=\"currentColor\" text-anchor=\"middle\">dep</textPath>\n",
              "    </text>\n",
              "    <path class=\"displacy-arrowhead\" d=\"M2135.0,354.0 L2143.0,342.0 2127.0,342.0\" fill=\"currentColor\"/>\n",
              "</g>\n",
              "</svg>\n",
              "</figure>\n",
              "</body>\n",
              "</html></span>"
            ]
          },
          "metadata": {}
        },
        {
          "output_type": "stream",
          "name": "stdout",
          "text": [
            "\n",
            "Using the 'dep' visualizer\n",
            "Serving on http://0.0.0.0:5000 ...\n",
            "\n",
            "Shutting down server on port 5000.\n"
          ]
        }
      ],
      "source": [
        "from spacy import displacy\n",
        "\n",
        "sent = [i for i in doc.sents][100]\n",
        "displacy.serve(sent, style=\"dep\")"
      ]
    },
    {
      "cell_type": "markdown",
      "metadata": {
        "id": "O_QkIFTsqq9k"
      },
      "source": [
        "Using this mapping, we can see each of the clauses of the sentence, and how words within the sentence relate to one another. The mapping can help us to understand whether or not we have correctly identified parts of speech that are associated with the topics we are trying to uncover in our code.\n",
        "\n",
        "\n",
        "## Sentiment Analysis\n",
        "\n",
        "My personal favorite part of NLP, sentiment analysis is a very powerful instrument for understanding text and creating actionable items. Many firms use sentiment analysis in combination with their social media accounts to measure engagement and understand how successful marketing campaigns or other interactions are with target audiences.\n",
        "\n",
        "In order to conduct sentiment analysis using spacy, we are going to use a library called `spacytextblob`. This library includes supplemental material that expands the english corpus' ability to process our data. When utilized, `spacytextblob` is going to add sentiment analysis models to the general pipeline created through `spacy`.\n",
        "\n",
        "We can incorporate the `SpacyTextBlob` process into our pipeline like this:"
      ]
    },
    {
      "cell_type": "code",
      "execution_count": 12,
      "metadata": {
        "colab": {
          "base_uri": "https://localhost:8080/",
          "height": 385
        },
        "collapsed": true,
        "id": "ydBqihb9qq9k",
        "outputId": "7459682d-9e4d-4874-9682-6c53814182da"
      },
      "outputs": [
        {
          "output_type": "error",
          "ename": "ModuleNotFoundError",
          "evalue": "No module named 'spacytextblob'",
          "traceback": [
            "\u001b[0;31m---------------------------------------------------------------------------\u001b[0m",
            "\u001b[0;31mModuleNotFoundError\u001b[0m                       Traceback (most recent call last)",
            "\u001b[0;32m<ipython-input-12-d1ae71753de0>\u001b[0m in \u001b[0;36m<cell line: 2>\u001b[0;34m()\u001b[0m\n\u001b[1;32m      1\u001b[0m \u001b[0;32mimport\u001b[0m \u001b[0mspacy\u001b[0m\u001b[0;34m\u001b[0m\u001b[0;34m\u001b[0m\u001b[0m\n\u001b[0;32m----> 2\u001b[0;31m \u001b[0;32mfrom\u001b[0m \u001b[0mspacytextblob\u001b[0m\u001b[0;34m.\u001b[0m\u001b[0mspacytextblob\u001b[0m \u001b[0;32mimport\u001b[0m \u001b[0mSpacyTextBlob\u001b[0m\u001b[0;34m\u001b[0m\u001b[0;34m\u001b[0m\u001b[0m\n\u001b[0m\u001b[1;32m      3\u001b[0m \u001b[0;32mimport\u001b[0m \u001b[0mrequests\u001b[0m\u001b[0;34m\u001b[0m\u001b[0;34m\u001b[0m\u001b[0m\n\u001b[1;32m      4\u001b[0m \u001b[0;34m\u001b[0m\u001b[0m\n\u001b[1;32m      5\u001b[0m jane = requests.get(\n",
            "\u001b[0;31mModuleNotFoundError\u001b[0m: No module named 'spacytextblob'",
            "",
            "\u001b[0;31m---------------------------------------------------------------------------\u001b[0;32m\nNOTE: If your import is failing due to a missing package, you can\nmanually install dependencies using either !pip or !apt.\n\nTo view examples of installing some common dependencies, click the\n\"Open Examples\" button below.\n\u001b[0;31m---------------------------------------------------------------------------\u001b[0m\n"
          ],
          "errorDetails": {
            "actions": [
              {
                "action": "open_url",
                "actionText": "Open Examples",
                "url": "/notebooks/snippets/importing_libraries.ipynb"
              }
            ]
          }
        }
      ],
      "source": [
        "import spacy\n",
        "from spacytextblob.spacytextblob import SpacyTextBlob\n",
        "import requests\n",
        "\n",
        "jane = requests.get(\n",
        "\"https://github.com/dustywhite7/Econ8320/raw/master/AssignmentData/janeEyreCh1to3.txt\"\n",
        ").text\n",
        "\n",
        "nlp = spacy.load('en_core_web_sm')\n",
        "nlp.add_pipe('spacytextblob')\n",
        "\n",
        "blob = nlp(jane)\n",
        "\n",
        "sents = [i for i in blob.sents]\n",
        "\n",
        "for sentence in sents[:10]:\n",
        "    print(\"Polarity: {0:3.2f}, Subjectivity: {1:3.2f}\".format(sentence._.polarity, sentence._.subjectivity))"
      ]
    },
    {
      "cell_type": "markdown",
      "metadata": {
        "id": "mWpsTqVZqq9k"
      },
      "source": [
        "We can add code to our processing pipeline using the `nlp.add_pipe()` method on our `nlp` object. In this case, we are adding the sentiment analysis information created through `SpacyTextBlob`, but this can be literally anything. We can create any kind of function that we want to implement on our code, and can add that functionality to our pipeline in the same way. More examples are available in the `spacy` [documentation](https://spacy.io/usage/processing-pipelines#pipelines).\n",
        "\n",
        "If you want to get more in-depth with NLP, I highly recommend that you explore the course material available through `spacy`'s own NLP curriculum (freely available!): https://course.spacy.io/en/"
      ]
    },
    {
      "cell_type": "markdown",
      "metadata": {
        "id": "VijoIQY9qq9k"
      },
      "source": [
        "## Solve it!\n",
        "\n",
        "In this project, you will use the text from [chapters 44 and 45](https://github.com/dustywhite7/Econ8320/raw/refs/heads/master/AssignmentData/prideAndPrejudiceChapters.txt) of *Pride and Prejudice*. Please find the following information:\n",
        "\n",
        "- The number of sentences (store as `int` in a variable named `sentences`)\n",
        "- A list of all proper nouns used across the two chapters (stored as strings in the `names` variable)\n",
        "- A DataFrame containing a count of the top 20 adjectives used in the text (stored in the `adjectives` variable)\n",
        "    - Be sure to make all words lower case ONLY!\n",
        "- A bar chart of the top 20 adjectives used in the text stored in a variable called `fig`\n",
        "\n",
        "\n",
        "Place all of your code in the cell below, labeled `#si-exercise`."
      ]
    },
    {
      "cell_type": "code",
      "execution_count": 14,
      "metadata": {
        "nbgrader": {
          "grade": false,
          "grade_id": "cell-547fcaa92ad85918",
          "locked": false,
          "schema_version": 1,
          "solution": true
        },
        "colab": {
          "base_uri": "https://localhost:8080/",
          "height": 607
        },
        "id": "_YTCL7QSqq9k",
        "outputId": "e9d6fcbc-c373-492d-fd70-4c6830fbf28e"
      },
      "outputs": [
        {
          "output_type": "display_data",
          "data": {
            "text/plain": [
              "<Figure size 1000x600 with 1 Axes>"
            ],
            "image/png": "[encoded data removed]"
          },
          "metadata": {}
        }
      ],
      "source": [
        "#si-exercise\n",
        "\n",
        "import subprocess\n",
        "import sys\n",
        "\n",
        "# Install matplotlib dynamically if not present\n",
        "try:\n",
        "    import matplotlib.pyplot as plt\n",
        "except ImportError:\n",
        "    subprocess.check_call([sys.executable, \"-m\", \"pip\", \"install\", \"matplotlib\"])\n",
        "    import matplotlib.pyplot as plt\n",
        "\n",
        "# Other imports\n",
        "import spacy\n",
        "import pandas as pd\n",
        "from collections import Counter\n",
        "import requests\n",
        "\n",
        "# Load the English NLP model\n",
        "nlp = spacy.load(\"en_core_web_sm\")\n",
        "\n",
        "# Fetch the text of Pride and Prejudice\n",
        "url = \"https://raw.githubusercontent.com/dustywhite7/Econ8320/refs/heads/master/AssignmentData/prideAndPrejudiceChapters.txt\"\n",
        "text = requests.get(url).text\n",
        "\n",
        "# Extract chapters 44 and 45\n",
        "start = text.find(\"Chapter 44\")\n",
        "end = text.find(\"Chapter 46\")\n",
        "text = text[start:end]\n",
        "\n",
        "# Process the text using spaCy\n",
        "doc = nlp(text)\n",
        "\n",
        "# 1. Count the number of sentences\n",
        "sentences = len(list(doc.sents))\n",
        "\n",
        "# 2. Extract proper nouns\n",
        "names = [token.text for token in doc if token.pos_ == \"PROPN\"]\n",
        "\n",
        "# 3. Extract adjectives and count their occurrences (convert to lowercase)\n",
        "adjectives = [token.text.lower() for token in doc if token.pos_ == \"ADJ\"]\n",
        "adjective_counts = Counter(adjectives)\n",
        "\n",
        "# Create a DataFrame for the top 20 adjectives\n",
        "adjectives = pd.DataFrame(adjective_counts.most_common(20), columns=[\"Adjective\", \"Count\"])\n",
        "\n",
        "# 4. Create a bar chart for the top 20 adjectives\n",
        "fig = plt.figure(figsize=(10, 6))\n",
        "plt.bar(adjectives[\"Adjective\"], adjectives[\"Count\"])\n",
        "plt.xlabel(\"Adjectives\")\n",
        "plt.ylabel(\"Count\")\n",
        "plt.title(\"Top 20 Adjectives in Chapters 44 and 45\")\n",
        "plt.xticks(rotation=45)\n",
        "plt.tight_layout()\n",
        "plt.savefig(\"top_adjectives_chart.png\")  # Save chart for autograder compatibility\n"
      ]
    }
  ],
  "metadata": {
    "celltoolbar": "Create Assignment",
    "kernelspec": {
      "display_name": "Python 3 (ipykernel)",
      "language": "python",
      "name": "python3"
    },
    "language_info": {
      "codemirror_mode": {
        "name": "ipython",
        "version": 3
      },
      "file_extension": ".py",
      "mimetype": "text/x-python",
      "name": "python",
      "nbconvert_exporter": "python",
      "pygments_lexer": "ipython3",
      "version": "3.9.13"
    },
    "colab": {
      "provenance": []
    }
  },
  "nbformat": 4,
  "nbformat_minor": 0
}